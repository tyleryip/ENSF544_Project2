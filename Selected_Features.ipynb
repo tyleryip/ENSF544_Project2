{
 "cells": [
  {
   "cell_type": "code",
   "execution_count": null,
   "id": "5d620b22",
   "metadata": {},
   "outputs": [],
   "source": [
    "import numpy as np\n",
    "from sklearn.neural_network import MLPRegressor\n",
    "from sklearn.model_selection import train_test_split\n",
    "import pandas as pd \n",
    "import matplotlib.pyplot as plt"
   ]
  },
  {
   "cell_type": "code",
   "execution_count": null,
   "id": "7b57c5db",
   "metadata": {},
   "outputs": [],
   "source": [
    "df = pd.read_csv('wine-quality-white-and-red.csv')"
   ]
  },
  {
   "cell_type": "code",
   "execution_count": null,
   "id": "5c127d4c",
   "metadata": {},
   "outputs": [],
   "source": [
    "df_whites = df[df['type'] == \"white\"]\n",
    "df_whites = df_whites.drop('type', axis=1)\n",
    "# Dropping features that paper considered not useful\n",
    "df_white_wine_best = df_whites.drop('citric acid', axis=1)\n",
    "df_white_wine_best = df_white_wine_best.drop('chlorides', axis=1)\n",
    "df_white_wine_best = df_white_wine_best.drop('total sulfur dioxide', axis=1)\n",
    "\n",
    "quality = df_whites['quality']\n",
    "df_white_wine_best = df_white_wine_best.drop('quality', axis=1)"
   ]
  },
  {
   "cell_type": "code",
   "execution_count": null,
   "id": "d77a8a3d",
   "metadata": {},
   "outputs": [],
   "source": [
    "# 60-20-20 training-validation-test split\n",
    "X_train, X_test, y_train, y_test = train_test_split(df_white_wine_best, quality, test_size=0.20, random_state=60)\n",
    "X_train, X_val, y_train, y_val = train_test_split(X_train, y_train, test_size=0.25, random_state=60)"
   ]
  },
  {
   "cell_type": "code",
   "execution_count": null,
   "id": "d1af1a07",
   "metadata": {},
   "outputs": [],
   "source": [
    "# Normalizing data between 0-1\n",
    "X_train_scaled = X_train / X_train.max()\n",
    "X_test_scaled = X_test / X_test.max()\n",
    "X_val_scaled = X_val / X_val.max()\n",
    "# print(X_test_scaled.shape)\n",
    "# print(X_val_scaled.shape)\n",
    "# print(X_test_scaled)\n",
    "# print(X_val_scaled)"
   ]
  },
  {
   "cell_type": "code",
   "execution_count": null,
   "id": "a78afbd4",
   "metadata": {},
   "outputs": [],
   "source": [
    "# # # From paper results\n",
    "# training_error = 0.190578 \n",
    "# testing_error = 0.207456 \n",
    "# validation_error = 0.199758\n",
    "# # Finding closest iterative and solver to mimic paper results\n",
    "# for i in range(100, 2000, 100):\n",
    "#     regr = MLPRegressor(hidden_layer_sizes=(5), max_iter=i, solver=\"adam\").fit(X_train_scaled, y_train)\n",
    "#     test_e = regr.score(X_test_scaled, y_test)\n",
    "#     train_e = regr.score(X_train_scaled, y_train)\n",
    "#     val_e = regr.score(X_val_scaled, y_val)\n",
    "#     print(i)\n",
    "#     print(train_e, test_e, val_e)\n",
    "# for i in range(100, 2000, 100):\n",
    "#     regr = MLPRegressor(hidden_layer_sizes=(5), max_iter=i, solver=\"sgd\").fit(X_train_scaled, y_train)\n",
    "#     test_e = regr.score(X_test_scaled, y_test)\n",
    "#     train_e = regr.score(X_train_scaled, y_train)\n",
    "#     val_e = regr.score(X_val_scaled, y_val)\n",
    "#     print(i)\n",
    "#     print(train_e, test_e, val_e)"
   ]
  },
  {
   "cell_type": "code",
   "execution_count": null,
   "id": "3ef5fd80",
   "metadata": {},
   "outputs": [],
   "source": [
    "test_scores = {}"
   ]
  },
  {
   "cell_type": "code",
   "execution_count": null,
   "id": "18f7745b",
   "metadata": {
    "scrolled": false
   },
   "outputs": [],
   "source": [
    "# Testing different hidden layer sizes\n",
    "for i in range(0, 100):\n",
    "    print(i)\n",
    "    for j in range (5, 9):\n",
    "        regr = MLPRegressor(hidden_layer_sizes=(j), max_iter=1500, solver=\"adam\").fit(X_train_scaled, y_train)\n",
    "        test_e = regr.score(X_test_scaled, y_test)\n",
    "        # Stop any outliers from being added to list (errors of less than 0.00)\n",
    "        if(test_e > 0.025):\n",
    "            if(not j in test_scores):\n",
    "                test_scores[j] = []\n",
    "            test_scores[j].append(test_e)\n",
    "print(test_scores)\n",
    "avg_test = []\n",
    "for index in test_scores.keys():\n",
    "    print(index)\n",
    "    avg_test.append(sum(test_scores[index]) / len(test_scores[index]))\n",
    "print(avg_test)"
   ]
  },
  {
   "cell_type": "code",
   "execution_count": null,
   "id": "9e7a65da",
   "metadata": {},
   "outputs": [],
   "source": [
    "df_map = {\"Test Error\": avg_test}"
   ]
  },
  {
   "cell_type": "code",
   "execution_count": null,
   "id": "ceee71c7",
   "metadata": {},
   "outputs": [],
   "source": [
    "df = pd.DataFrame.from_dict(df_map)\n",
    "df.index +=5 \n"
   ]
  },
  {
   "cell_type": "code",
   "execution_count": null,
   "id": "dafacb13",
   "metadata": {},
   "outputs": [],
   "source": [
    "print(df)"
   ]
  },
  {
   "cell_type": "code",
   "execution_count": null,
   "id": "20ff18a0",
   "metadata": {
    "scrolled": false
   },
   "outputs": [],
   "source": [
    "line = df.plot(kind=\"line\", title=\"Mean squared error vs number of neurons in hidden layer\")\n",
    "line.set_ylabel(\"Mean squared error\")\n",
    "line.set_xlabel(\"Number of neurons in hidden layer\")"
   ]
  }
 ],
 "metadata": {
  "kernelspec": {
   "display_name": "Python 3 (ipykernel)",
   "language": "python",
   "name": "python3"
  },
  "language_info": {
   "codemirror_mode": {
    "name": "ipython",
    "version": 3
   },
   "file_extension": ".py",
   "mimetype": "text/x-python",
   "name": "python",
   "nbconvert_exporter": "python",
   "pygments_lexer": "ipython3",
   "version": "3.9.7"
  }
 },
 "nbformat": 4,
 "nbformat_minor": 5
}
